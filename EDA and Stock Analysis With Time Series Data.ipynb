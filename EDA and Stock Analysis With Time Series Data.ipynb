{
 "cells": [
  {
   "cell_type": "markdown",
   "id": "beb39a1d",
   "metadata": {},
   "source": [
    "# EDA and Stock Analysis With Time Series Data of Tesala\n"
   ]
  },
  {
   "cell_type": "code",
   "execution_count": 1,
   "id": "e1995bd4",
   "metadata": {
    "scrolled": true
   },
   "outputs": [
    {
     "name": "stdout",
     "output_type": "stream",
     "text": [
      "Requirement already satisfied: pandas.datareader in c:\\users\\itsmj\\anaconda3\\lib\\site-packages (0.10.0)\n",
      "Requirement already satisfied: lxml in c:\\users\\itsmj\\anaconda3\\lib\\site-packages (from pandas.datareader) (4.6.3)\n",
      "Requirement already satisfied: pandas>=0.23 in c:\\users\\itsmj\\anaconda3\\lib\\site-packages (from pandas.datareader) (1.3.4)\n",
      "Requirement already satisfied: requests>=2.19.0 in c:\\users\\itsmj\\anaconda3\\lib\\site-packages (from pandas.datareader) (2.26.0)\n",
      "Requirement already satisfied: numpy>=1.17.3 in c:\\users\\itsmj\\anaconda3\\lib\\site-packages (from pandas>=0.23->pandas.datareader) (1.20.3)\n",
      "Requirement already satisfied: python-dateutil>=2.7.3 in c:\\users\\itsmj\\anaconda3\\lib\\site-packages (from pandas>=0.23->pandas.datareader) (2.8.2)\n",
      "Requirement already satisfied: pytz>=2017.3 in c:\\users\\itsmj\\anaconda3\\lib\\site-packages (from pandas>=0.23->pandas.datareader) (2021.3)\n",
      "Requirement already satisfied: six>=1.5 in c:\\users\\itsmj\\anaconda3\\lib\\site-packages (from python-dateutil>=2.7.3->pandas>=0.23->pandas.datareader) (1.16.0)\n",
      "Requirement already satisfied: idna<4,>=2.5 in c:\\users\\itsmj\\anaconda3\\lib\\site-packages (from requests>=2.19.0->pandas.datareader) (3.2)\n",
      "Requirement already satisfied: certifi>=2017.4.17 in c:\\users\\itsmj\\anaconda3\\lib\\site-packages (from requests>=2.19.0->pandas.datareader) (2021.10.8)\n",
      "Requirement already satisfied: urllib3<1.27,>=1.21.1 in c:\\users\\itsmj\\anaconda3\\lib\\site-packages (from requests>=2.19.0->pandas.datareader) (1.26.7)\n",
      "Requirement already satisfied: charset-normalizer~=2.0.0 in c:\\users\\itsmj\\anaconda3\\lib\\site-packages (from requests>=2.19.0->pandas.datareader) (2.0.4)\n"
     ]
    }
   ],
   "source": [
    "!pip install pandas.datareader"
   ]
  },
  {
   "cell_type": "code",
   "execution_count": 2,
   "id": "d0b55442",
   "metadata": {},
   "outputs": [],
   "source": [
    "import pandas_datareader as pdr\n",
    "import pandas as pd\n",
    "from datetime import datetime"
   ]
  },
  {
   "cell_type": "code",
   "execution_count": 3,
   "id": "ccb6f654",
   "metadata": {},
   "outputs": [],
   "source": [
    "tesla=pdr.get_data_yahoo('TSLA')"
   ]
  },
  {
   "cell_type": "code",
   "execution_count": 4,
   "id": "2b5af8e1",
   "metadata": {},
   "outputs": [
    {
     "data": {
      "text/plain": [
       "pandas.core.frame.DataFrame"
      ]
     },
     "execution_count": 4,
     "metadata": {},
     "output_type": "execute_result"
    }
   ],
   "source": [
    "type(tesla)"
   ]
  },
  {
   "cell_type": "code",
   "execution_count": 5,
   "id": "1807771c",
   "metadata": {},
   "outputs": [
    {
     "data": {
      "text/html": [
       "<div>\n",
       "<style scoped>\n",
       "    .dataframe tbody tr th:only-of-type {\n",
       "        vertical-align: middle;\n",
       "    }\n",
       "\n",
       "    .dataframe tbody tr th {\n",
       "        vertical-align: top;\n",
       "    }\n",
       "\n",
       "    .dataframe thead th {\n",
       "        text-align: right;\n",
       "    }\n",
       "</style>\n",
       "<table border=\"1\" class=\"dataframe\">\n",
       "  <thead>\n",
       "    <tr style=\"text-align: right;\">\n",
       "      <th></th>\n",
       "      <th>High</th>\n",
       "      <th>Low</th>\n",
       "      <th>Open</th>\n",
       "      <th>Close</th>\n",
       "      <th>Volume</th>\n",
       "      <th>Adj Close</th>\n",
       "    </tr>\n",
       "    <tr>\n",
       "      <th>Date</th>\n",
       "      <th></th>\n",
       "      <th></th>\n",
       "      <th></th>\n",
       "      <th></th>\n",
       "      <th></th>\n",
       "      <th></th>\n",
       "    </tr>\n",
       "  </thead>\n",
       "  <tbody>\n",
       "    <tr>\n",
       "      <th>2022-02-28</th>\n",
       "      <td>876.859985</td>\n",
       "      <td>814.710022</td>\n",
       "      <td>815.010010</td>\n",
       "      <td>870.429993</td>\n",
       "      <td>33002300.0</td>\n",
       "      <td>870.429993</td>\n",
       "    </tr>\n",
       "    <tr>\n",
       "      <th>2022-03-01</th>\n",
       "      <td>889.880005</td>\n",
       "      <td>853.780029</td>\n",
       "      <td>869.679993</td>\n",
       "      <td>864.369995</td>\n",
       "      <td>24922300.0</td>\n",
       "      <td>864.369995</td>\n",
       "    </tr>\n",
       "    <tr>\n",
       "      <th>2022-03-02</th>\n",
       "      <td>886.479980</td>\n",
       "      <td>844.270020</td>\n",
       "      <td>872.130005</td>\n",
       "      <td>879.890015</td>\n",
       "      <td>24881100.0</td>\n",
       "      <td>879.890015</td>\n",
       "    </tr>\n",
       "    <tr>\n",
       "      <th>2022-03-03</th>\n",
       "      <td>886.440002</td>\n",
       "      <td>832.599976</td>\n",
       "      <td>878.770020</td>\n",
       "      <td>839.289978</td>\n",
       "      <td>20373300.0</td>\n",
       "      <td>839.289978</td>\n",
       "    </tr>\n",
       "    <tr>\n",
       "      <th>2022-03-04</th>\n",
       "      <td>855.650024</td>\n",
       "      <td>825.160889</td>\n",
       "      <td>849.099976</td>\n",
       "      <td>838.289978</td>\n",
       "      <td>22294195.0</td>\n",
       "      <td>838.289978</td>\n",
       "    </tr>\n",
       "  </tbody>\n",
       "</table>\n",
       "</div>"
      ],
      "text/plain": [
       "                  High         Low        Open       Close      Volume  \\\n",
       "Date                                                                     \n",
       "2022-02-28  876.859985  814.710022  815.010010  870.429993  33002300.0   \n",
       "2022-03-01  889.880005  853.780029  869.679993  864.369995  24922300.0   \n",
       "2022-03-02  886.479980  844.270020  872.130005  879.890015  24881100.0   \n",
       "2022-03-03  886.440002  832.599976  878.770020  839.289978  20373300.0   \n",
       "2022-03-04  855.650024  825.160889  849.099976  838.289978  22294195.0   \n",
       "\n",
       "             Adj Close  \n",
       "Date                    \n",
       "2022-02-28  870.429993  \n",
       "2022-03-01  864.369995  \n",
       "2022-03-02  879.890015  \n",
       "2022-03-03  839.289978  \n",
       "2022-03-04  838.289978  "
      ]
     },
     "execution_count": 5,
     "metadata": {},
     "output_type": "execute_result"
    }
   ],
   "source": [
    "tesla.tail()"
   ]
  },
  {
   "cell_type": "code",
   "execution_count": 6,
   "id": "b905b5fe",
   "metadata": {},
   "outputs": [
    {
     "data": {
      "text/plain": [
       "(1260, 6)"
      ]
     },
     "execution_count": 6,
     "metadata": {},
     "output_type": "execute_result"
    }
   ],
   "source": [
    "tesla.shape"
   ]
  },
  {
   "cell_type": "code",
   "execution_count": 7,
   "id": "7e212c1e",
   "metadata": {},
   "outputs": [
    {
     "data": {
      "text/plain": [
       "<AxesSubplot:xlabel='Date'>"
      ]
     },
     "execution_count": 7,
     "metadata": {},
     "output_type": "execute_result"
    },
    {
     "data": {
      "image/png": "[encoded data removed]",
      "text/plain": [
       "<Figure size 864x288 with 1 Axes>"
      ]
     },
     "metadata": {
      "needs_background": "light"
     },
     "output_type": "display_data"
    }
   ],
   "source": [
    "tesla.plot(figsize=(12,4))"
   ]
  },
  {
   "cell_type": "code",
   "execution_count": 8,
   "id": "173b340e",
   "metadata": {},
   "outputs": [
    {
     "data": {
      "text/plain": [
       "<AxesSubplot:xlabel='Date'>"
      ]
     },
     "execution_count": 8,
     "metadata": {},
     "output_type": "execute_result"
    },
    {
     "data": {
      "image/png": "[encoded data removed]",
      "text/plain": [
       "<Figure size 864x288 with 1 Axes>"
      ]
     },
     "metadata": {
      "needs_background": "light"
     },
     "output_type": "display_data"
    }
   ],
   "source": [
    "tesla['High'].plot(figsize=(12,4))"
   ]
  },
  {
   "cell_type": "code",
   "execution_count": 9,
   "id": "2eede23c",
   "metadata": {},
   "outputs": [
    {
     "data": {
      "text/plain": [
       "<AxesSubplot:xlabel='Date'>"
      ]
     },
     "execution_count": 9,
     "metadata": {},
     "output_type": "execute_result"
    },
    {
     "data": {
      "image/png": "[encoded data removed]",
      "text/plain": [
       "<Figure size 864x288 with 1 Axes>"
      ]
     },
     "metadata": {
      "needs_background": "light"
     },
     "output_type": "display_data"
    }
   ],
   "source": [
    "## x limt and y limt\n",
    "tesla['High'].plot(xlim=['2022-02-28','2020-09-01'],ylim=[0,900],figsize=(12,4))"
   ]
  },
  {
   "cell_type": "code",
   "execution_count": 10,
   "id": "6da3647f",
   "metadata": {},
   "outputs": [
    {
     "data": {
      "text/plain": [
       "<AxesSubplot:xlabel='Date'>"
      ]
     },
     "execution_count": 10,
     "metadata": {},
     "output_type": "execute_result"
    },
    {
     "data": {
      "image/png": "[encoded data removed]",
      "text/plain": [
       "<Figure size 864x288 with 1 Axes>"
      ]
     },
     "metadata": {
      "needs_background": "light"
     },
     "output_type": "display_data"
    }
   ],
   "source": [
    "## x limt and y limt and colouring\n",
    "tesla['High'].plot(xlim=['2020-01-01','2020-09-01'],ylim=[0,900],figsize=(12,4),ls='--',c='#F1C40F')"
   ]
  },
  {
   "cell_type": "code",
   "execution_count": 11,
   "id": "6fa7754f",
   "metadata": {},
   "outputs": [],
   "source": [
    "index=tesla.iloc[0:4].index"
   ]
  },
  {
   "cell_type": "code",
   "execution_count": 12,
   "id": "4e23852d",
   "metadata": {},
   "outputs": [
    {
     "data": {
      "text/plain": [
       "DatetimeIndex(['2017-03-06', '2017-03-07', '2017-03-08', '2017-03-09'], dtype='datetime64[ns]', name='Date', freq=None)"
      ]
     },
     "execution_count": 12,
     "metadata": {},
     "output_type": "execute_result"
    }
   ],
   "source": [
    "index"
   ]
  },
  {
   "cell_type": "code",
   "execution_count": 13,
   "id": "b630a461",
   "metadata": {},
   "outputs": [],
   "source": [
    "index=tesla.loc['2022-02-28':'2022-03-03'].index"
   ]
  },
  {
   "cell_type": "markdown",
   "id": "9f6c1770",
   "metadata": {},
   "source": [
    "### Share open at "
   ]
  },
  {
   "cell_type": "code",
   "execution_count": 14,
   "id": "901c3cc0",
   "metadata": {
    "scrolled": true
   },
   "outputs": [
    {
     "data": {
      "text/plain": [
       "Date\n",
       "2022-02-28    815.010010\n",
       "2022-03-01    869.679993\n",
       "2022-03-02    872.130005\n",
       "2022-03-03    878.770020\n",
       "Name: Open, dtype: float64"
      ]
     },
     "execution_count": 14,
     "metadata": {},
     "output_type": "execute_result"
    }
   ],
   "source": [
    "share_open=tesla.loc['2022-02-28':'2022-03-03']['Open']\n",
    "share_open"
   ]
  },
  {
   "cell_type": "code",
   "execution_count": 15,
   "id": "db4a9d4d",
   "metadata": {},
   "outputs": [
    {
     "data": {
      "text/plain": [
       "DatetimeIndex(['2017-03-06', '2017-03-07', '2017-03-08', '2017-03-09',\n",
       "               '2017-03-10', '2017-03-13', '2017-03-14', '2017-03-15',\n",
       "               '2017-03-16', '2017-03-17',\n",
       "               ...\n",
       "               '2022-02-18', '2022-02-22', '2022-02-23', '2022-02-24',\n",
       "               '2022-02-25', '2022-02-28', '2022-03-01', '2022-03-02',\n",
       "               '2022-03-03', '2022-03-04'],\n",
       "              dtype='datetime64[ns]', name='Date', length=1260, freq=None)"
      ]
     },
     "execution_count": 15,
     "metadata": {},
     "output_type": "execute_result"
    }
   ],
   "source": [
    "index=tesla.index\n",
    "index"
   ]
  },
  {
   "cell_type": "code",
   "execution_count": 16,
   "id": "d78c76fd",
   "metadata": {},
   "outputs": [],
   "source": [
    "import matplotlib as plt\n",
    "%matplotlib inline"
   ]
  },
  {
   "cell_type": "code",
   "execution_count": 17,
   "id": "820a3740",
   "metadata": {},
   "outputs": [],
   "source": [
    "#figure,axis=plt.subplots()\n",
    "#plt.tight_layout()\n",
    "#figure.autofmt_xdate()\n",
    "#axis.plot(index,share_open)"
   ]
  },
  {
   "cell_type": "markdown",
   "id": "a602ab8a",
   "metadata": {},
   "source": [
    "### reating the index"
   ]
  },
  {
   "cell_type": "code",
   "execution_count": 18,
   "id": "445577dc",
   "metadata": {},
   "outputs": [],
   "source": [
    "tesla.reset_index(inplace=True)"
   ]
  },
  {
   "cell_type": "code",
   "execution_count": 97,
   "id": "acbac26a",
   "metadata": {},
   "outputs": [
    {
     "data": {
      "text/html": [
       "<div>\n",
       "<style scoped>\n",
       "    .dataframe tbody tr th:only-of-type {\n",
       "        vertical-align: middle;\n",
       "    }\n",
       "\n",
       "    .dataframe tbody tr th {\n",
       "        vertical-align: top;\n",
       "    }\n",
       "\n",
       "    .dataframe thead th {\n",
       "        text-align: right;\n",
       "    }\n",
       "</style>\n",
       "<table border=\"1\" class=\"dataframe\">\n",
       "  <thead>\n",
       "    <tr style=\"text-align: right;\">\n",
       "      <th></th>\n",
       "      <th>High</th>\n",
       "      <th>Low</th>\n",
       "      <th>Open</th>\n",
       "      <th>Close</th>\n",
       "      <th>Volume</th>\n",
       "      <th>Adj Close</th>\n",
       "    </tr>\n",
       "    <tr>\n",
       "      <th>Date</th>\n",
       "      <th></th>\n",
       "      <th></th>\n",
       "      <th></th>\n",
       "      <th></th>\n",
       "      <th></th>\n",
       "      <th></th>\n",
       "    </tr>\n",
       "  </thead>\n",
       "  <tbody>\n",
       "    <tr>\n",
       "      <th>2017-03-06</th>\n",
       "      <td>50.340000</td>\n",
       "      <td>49.501999</td>\n",
       "      <td>49.582001</td>\n",
       "      <td>50.242001</td>\n",
       "      <td>16777500.0</td>\n",
       "      <td>50.242001</td>\n",
       "    </tr>\n",
       "    <tr>\n",
       "      <th>2017-03-07</th>\n",
       "      <td>50.778000</td>\n",
       "      <td>49.664001</td>\n",
       "      <td>50.383999</td>\n",
       "      <td>49.717999</td>\n",
       "      <td>17297500.0</td>\n",
       "      <td>49.717999</td>\n",
       "    </tr>\n",
       "    <tr>\n",
       "      <th>2017-03-08</th>\n",
       "      <td>50.014000</td>\n",
       "      <td>49.063999</td>\n",
       "      <td>49.400002</td>\n",
       "      <td>49.374001</td>\n",
       "      <td>18626000.0</td>\n",
       "      <td>49.374001</td>\n",
       "    </tr>\n",
       "    <tr>\n",
       "      <th>2017-03-09</th>\n",
       "      <td>49.731998</td>\n",
       "      <td>48.599998</td>\n",
       "      <td>49.526001</td>\n",
       "      <td>48.980000</td>\n",
       "      <td>19396500.0</td>\n",
       "      <td>48.980000</td>\n",
       "    </tr>\n",
       "    <tr>\n",
       "      <th>2017-03-10</th>\n",
       "      <td>49.299999</td>\n",
       "      <td>48.599998</td>\n",
       "      <td>49.242001</td>\n",
       "      <td>48.737999</td>\n",
       "      <td>15331500.0</td>\n",
       "      <td>48.737999</td>\n",
       "    </tr>\n",
       "    <tr>\n",
       "      <th>...</th>\n",
       "      <td>...</td>\n",
       "      <td>...</td>\n",
       "      <td>...</td>\n",
       "      <td>...</td>\n",
       "      <td>...</td>\n",
       "      <td>...</td>\n",
       "    </tr>\n",
       "    <tr>\n",
       "      <th>2022-02-28</th>\n",
       "      <td>876.859985</td>\n",
       "      <td>814.710022</td>\n",
       "      <td>815.010010</td>\n",
       "      <td>870.429993</td>\n",
       "      <td>33002300.0</td>\n",
       "      <td>870.429993</td>\n",
       "    </tr>\n",
       "    <tr>\n",
       "      <th>2022-03-01</th>\n",
       "      <td>889.880005</td>\n",
       "      <td>853.780029</td>\n",
       "      <td>869.679993</td>\n",
       "      <td>864.369995</td>\n",
       "      <td>24922300.0</td>\n",
       "      <td>864.369995</td>\n",
       "    </tr>\n",
       "    <tr>\n",
       "      <th>2022-03-02</th>\n",
       "      <td>886.479980</td>\n",
       "      <td>844.270020</td>\n",
       "      <td>872.130005</td>\n",
       "      <td>879.890015</td>\n",
       "      <td>24881100.0</td>\n",
       "      <td>879.890015</td>\n",
       "    </tr>\n",
       "    <tr>\n",
       "      <th>2022-03-03</th>\n",
       "      <td>886.440002</td>\n",
       "      <td>832.599976</td>\n",
       "      <td>878.770020</td>\n",
       "      <td>839.289978</td>\n",
       "      <td>20373300.0</td>\n",
       "      <td>839.289978</td>\n",
       "    </tr>\n",
       "    <tr>\n",
       "      <th>2022-03-04</th>\n",
       "      <td>855.650024</td>\n",
       "      <td>829.373413</td>\n",
       "      <td>849.099976</td>\n",
       "      <td>830.034973</td>\n",
       "      <td>8646130.0</td>\n",
       "      <td>830.034973</td>\n",
       "    </tr>\n",
       "  </tbody>\n",
       "</table>\n",
       "<p>1260 rows × 6 columns</p>\n",
       "</div>"
      ],
      "text/plain": [
       "                  High         Low        Open       Close      Volume  \\\n",
       "Date                                                                     \n",
       "2017-03-06   50.340000   49.501999   49.582001   50.242001  16777500.0   \n",
       "2017-03-07   50.778000   49.664001   50.383999   49.717999  17297500.0   \n",
       "2017-03-08   50.014000   49.063999   49.400002   49.374001  18626000.0   \n",
       "2017-03-09   49.731998   48.599998   49.526001   48.980000  19396500.0   \n",
       "2017-03-10   49.299999   48.599998   49.242001   48.737999  15331500.0   \n",
       "...                ...         ...         ...         ...         ...   \n",
       "2022-02-28  876.859985  814.710022  815.010010  870.429993  33002300.0   \n",
       "2022-03-01  889.880005  853.780029  869.679993  864.369995  24922300.0   \n",
       "2022-03-02  886.479980  844.270020  872.130005  879.890015  24881100.0   \n",
       "2022-03-03  886.440002  832.599976  878.770020  839.289978  20373300.0   \n",
       "2022-03-04  855.650024  829.373413  849.099976  830.034973   8646130.0   \n",
       "\n",
       "             Adj Close  \n",
       "Date                    \n",
       "2017-03-06   50.242001  \n",
       "2017-03-07   49.717999  \n",
       "2017-03-08   49.374001  \n",
       "2017-03-09   48.980000  \n",
       "2017-03-10   48.737999  \n",
       "...                ...  \n",
       "2022-02-28  870.429993  \n",
       "2022-03-01  864.369995  \n",
       "2022-03-02  879.890015  \n",
       "2022-03-03  839.289978  \n",
       "2022-03-04  830.034973  \n",
       "\n",
       "[1260 rows x 6 columns]"
      ]
     },
     "execution_count": 97,
     "metadata": {},
     "output_type": "execute_result"
    }
   ],
   "source": [
    "tesla.set_index(\"Date\")"
   ]
  },
  {
   "cell_type": "markdown",
   "id": "eae439f2",
   "metadata": {},
   "source": [
    "### To convert the object to date format"
   ]
  },
  {
   "cell_type": "code",
   "execution_count": 98,
   "id": "ca93821e",
   "metadata": {},
   "outputs": [
    {
     "data": {
      "text/plain": [
       "0      2017-03-06\n",
       "1      2017-03-07\n",
       "2      2017-03-08\n",
       "3      2017-03-09\n",
       "4      2017-03-10\n",
       "          ...    \n",
       "1255   2022-02-28\n",
       "1256   2022-03-01\n",
       "1257   2022-03-02\n",
       "1258   2022-03-03\n",
       "1259   2022-03-04\n",
       "Name: Date, Length: 1260, dtype: datetime64[ns]"
      ]
     },
     "execution_count": 98,
     "metadata": {},
     "output_type": "execute_result"
    }
   ],
   "source": [
    "pd.to_datetime(tesla['Date'])"
   ]
  },
  {
   "cell_type": "code",
   "execution_count": 107,
   "id": "3818d2f6",
   "metadata": {},
   "outputs": [
    {
     "data": {
      "text/plain": [
       "datetime.datetime(2022, 3, 5, 11, 32, 12, 711021)"
      ]
     },
     "execution_count": 107,
     "metadata": {},
     "output_type": "execute_result"
    }
   ],
   "source": [
    "datetime.now()"
   ]
  },
  {
   "cell_type": "code",
   "execution_count": 105,
   "id": "58c69ffc",
   "metadata": {},
   "outputs": [],
   "source": [
    "from datetime import datetime"
   ]
  },
  {
   "cell_type": "markdown",
   "id": "020b89f4",
   "metadata": {},
   "source": [
    "## Time Resampling"
   ]
  },
  {
   "cell_type": "markdown",
   "id": "dfdf7ee0",
   "metadata": {},
   "source": [
    "yntax : DataFrame.resample(rule, how=None, axis=0, fill_method=None, closed=None, label=None, convention=’start’, kind=None,            loffset=None, limit=None, base=0, on=None, level=None)\n",
    "\n",
    "Parameters :\n",
    "\n",
    "rule : the offset string or object representing target conversion\n",
    "\n",
    "axis : int, optional, default 0\n",
    "\n",
    "closed : {‘right’, ‘left’}\n",
    "\n",
    "label : {‘right’, ‘left’}\n",
    "\n",
    "convention : For PeriodIndex only, controls whether to use the start or end of rule\n",
    "\n",
    "loffset : Adjust the resampled time labels\n",
    "\n",
    "base : For frequencies that evenly subdivide 1 day, the “origin” of the aggregated intervals. For example, for ‘5min’ frequency, base could range from 0 through 4. Defaults to 0.\n",
    "\n",
    "on : For a DataFrame, column to use instead of index for resampling. Column must be datetime-like.\n",
    "\n",
    "level : For a MultiIndex, level (name or number) to use for resampling. Level must be datetime-like."
   ]
  },
  {
   "cell_type": "code",
   "execution_count": 27,
   "id": "4c23c3d5",
   "metadata": {},
   "outputs": [],
   "source": [
    "tesla=tesla.set_index(tesla['Date'])"
   ]
  },
  {
   "cell_type": "code",
   "execution_count": 24,
   "id": "7419e55f",
   "metadata": {},
   "outputs": [
    {
     "data": {
      "text/html": [
       "<div>\n",
       "<style scoped>\n",
       "    .dataframe tbody tr th:only-of-type {\n",
       "        vertical-align: middle;\n",
       "    }\n",
       "\n",
       "    .dataframe tbody tr th {\n",
       "        vertical-align: top;\n",
       "    }\n",
       "\n",
       "    .dataframe thead th {\n",
       "        text-align: right;\n",
       "    }\n",
       "</style>\n",
       "<table border=\"1\" class=\"dataframe\">\n",
       "  <thead>\n",
       "    <tr style=\"text-align: right;\">\n",
       "      <th></th>\n",
       "      <th>Date</th>\n",
       "      <th>High</th>\n",
       "      <th>Low</th>\n",
       "      <th>Open</th>\n",
       "      <th>Close</th>\n",
       "      <th>Volume</th>\n",
       "      <th>Adj Close</th>\n",
       "    </tr>\n",
       "    <tr>\n",
       "      <th>Date</th>\n",
       "      <th></th>\n",
       "      <th></th>\n",
       "      <th></th>\n",
       "      <th></th>\n",
       "      <th></th>\n",
       "      <th></th>\n",
       "      <th></th>\n",
       "    </tr>\n",
       "  </thead>\n",
       "  <tbody>\n",
       "    <tr>\n",
       "      <th>2017-03-06</th>\n",
       "      <td>2017-03-06</td>\n",
       "      <td>50.340000</td>\n",
       "      <td>49.501999</td>\n",
       "      <td>49.582001</td>\n",
       "      <td>50.242001</td>\n",
       "      <td>16777500.0</td>\n",
       "      <td>50.242001</td>\n",
       "    </tr>\n",
       "    <tr>\n",
       "      <th>2017-03-07</th>\n",
       "      <td>2017-03-07</td>\n",
       "      <td>50.778000</td>\n",
       "      <td>49.664001</td>\n",
       "      <td>50.383999</td>\n",
       "      <td>49.717999</td>\n",
       "      <td>17297500.0</td>\n",
       "      <td>49.717999</td>\n",
       "    </tr>\n",
       "    <tr>\n",
       "      <th>2017-03-08</th>\n",
       "      <td>2017-03-08</td>\n",
       "      <td>50.014000</td>\n",
       "      <td>49.063999</td>\n",
       "      <td>49.400002</td>\n",
       "      <td>49.374001</td>\n",
       "      <td>18626000.0</td>\n",
       "      <td>49.374001</td>\n",
       "    </tr>\n",
       "    <tr>\n",
       "      <th>2017-03-09</th>\n",
       "      <td>2017-03-09</td>\n",
       "      <td>49.731998</td>\n",
       "      <td>48.599998</td>\n",
       "      <td>49.526001</td>\n",
       "      <td>48.980000</td>\n",
       "      <td>19396500.0</td>\n",
       "      <td>48.980000</td>\n",
       "    </tr>\n",
       "    <tr>\n",
       "      <th>2017-03-10</th>\n",
       "      <td>2017-03-10</td>\n",
       "      <td>49.299999</td>\n",
       "      <td>48.599998</td>\n",
       "      <td>49.242001</td>\n",
       "      <td>48.737999</td>\n",
       "      <td>15331500.0</td>\n",
       "      <td>48.737999</td>\n",
       "    </tr>\n",
       "    <tr>\n",
       "      <th>...</th>\n",
       "      <td>...</td>\n",
       "      <td>...</td>\n",
       "      <td>...</td>\n",
       "      <td>...</td>\n",
       "      <td>...</td>\n",
       "      <td>...</td>\n",
       "      <td>...</td>\n",
       "    </tr>\n",
       "    <tr>\n",
       "      <th>2022-02-28</th>\n",
       "      <td>2022-02-28</td>\n",
       "      <td>876.859985</td>\n",
       "      <td>814.710022</td>\n",
       "      <td>815.010010</td>\n",
       "      <td>870.429993</td>\n",
       "      <td>33002300.0</td>\n",
       "      <td>870.429993</td>\n",
       "    </tr>\n",
       "    <tr>\n",
       "      <th>2022-03-01</th>\n",
       "      <td>2022-03-01</td>\n",
       "      <td>889.880005</td>\n",
       "      <td>853.780029</td>\n",
       "      <td>869.679993</td>\n",
       "      <td>864.369995</td>\n",
       "      <td>24922300.0</td>\n",
       "      <td>864.369995</td>\n",
       "    </tr>\n",
       "    <tr>\n",
       "      <th>2022-03-02</th>\n",
       "      <td>2022-03-02</td>\n",
       "      <td>886.479980</td>\n",
       "      <td>844.270020</td>\n",
       "      <td>872.130005</td>\n",
       "      <td>879.890015</td>\n",
       "      <td>24881100.0</td>\n",
       "      <td>879.890015</td>\n",
       "    </tr>\n",
       "    <tr>\n",
       "      <th>2022-03-03</th>\n",
       "      <td>2022-03-03</td>\n",
       "      <td>886.440002</td>\n",
       "      <td>832.599976</td>\n",
       "      <td>878.770020</td>\n",
       "      <td>839.289978</td>\n",
       "      <td>20373300.0</td>\n",
       "      <td>839.289978</td>\n",
       "    </tr>\n",
       "    <tr>\n",
       "      <th>2022-03-04</th>\n",
       "      <td>2022-03-04</td>\n",
       "      <td>855.650024</td>\n",
       "      <td>825.160889</td>\n",
       "      <td>849.099976</td>\n",
       "      <td>838.289978</td>\n",
       "      <td>22294195.0</td>\n",
       "      <td>838.289978</td>\n",
       "    </tr>\n",
       "  </tbody>\n",
       "</table>\n",
       "<p>1260 rows × 7 columns</p>\n",
       "</div>"
      ],
      "text/plain": [
       "                 Date        High         Low        Open       Close  \\\n",
       "Date                                                                    \n",
       "2017-03-06 2017-03-06   50.340000   49.501999   49.582001   50.242001   \n",
       "2017-03-07 2017-03-07   50.778000   49.664001   50.383999   49.717999   \n",
       "2017-03-08 2017-03-08   50.014000   49.063999   49.400002   49.374001   \n",
       "2017-03-09 2017-03-09   49.731998   48.599998   49.526001   48.980000   \n",
       "2017-03-10 2017-03-10   49.299999   48.599998   49.242001   48.737999   \n",
       "...               ...         ...         ...         ...         ...   \n",
       "2022-02-28 2022-02-28  876.859985  814.710022  815.010010  870.429993   \n",
       "2022-03-01 2022-03-01  889.880005  853.780029  869.679993  864.369995   \n",
       "2022-03-02 2022-03-02  886.479980  844.270020  872.130005  879.890015   \n",
       "2022-03-03 2022-03-03  886.440002  832.599976  878.770020  839.289978   \n",
       "2022-03-04 2022-03-04  855.650024  825.160889  849.099976  838.289978   \n",
       "\n",
       "                Volume   Adj Close  \n",
       "Date                                \n",
       "2017-03-06  16777500.0   50.242001  \n",
       "2017-03-07  17297500.0   49.717999  \n",
       "2017-03-08  18626000.0   49.374001  \n",
       "2017-03-09  19396500.0   48.980000  \n",
       "2017-03-10  15331500.0   48.737999  \n",
       "...                ...         ...  \n",
       "2022-02-28  33002300.0  870.429993  \n",
       "2022-03-01  24922300.0  864.369995  \n",
       "2022-03-02  24881100.0  879.890015  \n",
       "2022-03-03  20373300.0  839.289978  \n",
       "2022-03-04  22294195.0  838.289978  \n",
       "\n",
       "[1260 rows x 7 columns]"
      ]
     },
     "execution_count": 24,
     "metadata": {},
     "output_type": "execute_result"
    }
   ],
   "source": [
    "tesla"
   ]
  },
  {
   "cell_type": "code",
   "execution_count": 26,
   "id": "0ee68dac",
   "metadata": {},
   "outputs": [
    {
     "data": {
      "text/plain": [
       "<pandas.core.resample.DatetimeIndexResampler object at 0x000001EE2E138FD0>"
      ]
     },
     "execution_count": 26,
     "metadata": {},
     "output_type": "execute_result"
    }
   ],
   "source": [
    "tesla.resample(rule='A')"
   ]
  },
  {
   "cell_type": "markdown",
   "id": "55804dc1",
   "metadata": {},
   "source": [
    "Resampling generates a unique sampling distribution on the basis of the actual data. We can apply various frequency to resample our time series data. This is a very important technique in the field of analytics.\n",
    "\n",
    "Most commonly used time series frequency are –\n",
    "\n",
    "W : weekly frequency\n",
    "    \n",
    "M : month end frequency\n",
    "    \n",
    "SM : semi-month end frequency (15th and end of month)\n",
    "    \n",
    "Q : quarter end frequency"
   ]
  },
  {
   "cell_type": "code",
   "execution_count": 36,
   "id": "23e2b114",
   "metadata": {},
   "outputs": [
    {
     "data": {
      "image/png": "[encoded data removed]",
      "text/plain": [
       "<Figure size 864x288 with 1 Axes>"
      ]
     },
     "metadata": {
      "needs_background": "light"
     },
     "output_type": "display_data"
    }
   ],
   "source": [
    "# Resampling the time series data based on months\n",
    "# we apply it on stock close price\n",
    "# 'M' indicates month\n",
    "monthly_resampled_data = tesla.resample('M').mean() ['Close'].plot(figsize=(12,4),c='#C943D9')"
   ]
  },
  {
   "cell_type": "markdown",
   "id": "603b1831",
   "metadata": {},
   "source": [
    " the above command will find the mean closing price\n",
    " of each month for a duration of 12 months."
   ]
  },
  {
   "cell_type": "code",
   "execution_count": 42,
   "id": "d085c753",
   "metadata": {
    "scrolled": true
   },
   "outputs": [
    {
     "data": {
      "text/plain": [
       "<AxesSubplot:xlabel='Date'>"
      ]
     },
     "execution_count": 42,
     "metadata": {},
     "output_type": "execute_result"
    },
    {
     "data": {
      "image/png": "[encoded data removed]",
      "text/plain": [
       "<Figure size 864x288 with 1 Axes>"
      ]
     },
     "metadata": {
      "needs_background": "light"
     },
     "output_type": "display_data"
    }
   ],
   "source": [
    "tesla.resample(rule='A').max() ['Open'].plot(figsize=(12,4),c='#C943D5')"
   ]
  },
  {
   "cell_type": "code",
   "execution_count": 47,
   "id": "297b6187",
   "metadata": {},
   "outputs": [
    {
     "data": {
      "text/plain": [
       "Date\n",
       "2017-03-12     49.626801\n",
       "2017-03-19     50.973200\n",
       "2017-03-26     51.443200\n",
       "2017-04-02     54.909200\n",
       "2017-04-09     59.208400\n",
       "                 ...    \n",
       "2022-02-06    903.064001\n",
       "2022-02-13    916.464001\n",
       "2022-02-20    894.976001\n",
       "2022-02-27    793.544998\n",
       "2022-03-06    856.938000\n",
       "Freq: W-SUN, Name: Open, Length: 261, dtype: float64"
      ]
     },
     "execution_count": 47,
     "metadata": {},
     "output_type": "execute_result"
    }
   ],
   "source": [
    "weekly_resampled_data = tesla.resample('W').mean() ['Open']\n",
    "weekly_resampled_data\n",
    " \n",
    "# find the mean opening price of tesla of each week for each week over a period of 1 year."
   ]
  },
  {
   "cell_type": "code",
   "execution_count": 49,
   "id": "6d89137b",
   "metadata": {},
   "outputs": [
    {
     "data": {
      "image/png": "[encoded data removed]",
      "text/plain": [
       "<Figure size 864x288 with 1 Axes>"
      ]
     },
     "metadata": {
      "needs_background": "light"
     },
     "output_type": "display_data"
    }
   ],
   "source": [
    "weekly_resampled_data = tesla.resample('W').mean() ['Open'].plot(figsize=(12,4),c='#10F633')"
   ]
  },
  {
   "cell_type": "code",
   "execution_count": 53,
   "id": "fd58867d",
   "metadata": {},
   "outputs": [
    {
     "data": {
      "image/png": "[encoded data removed]",
      "text/plain": [
       "<Figure size 864x288 with 1 Axes>"
      ]
     },
     "metadata": {
      "needs_background": "light"
     },
     "output_type": "display_data"
    }
   ],
   "source": [
    "Quater_resampled_data = tesla.resample('Q').mean() ['Open'].plot(figsize=(12,4),c='#F61433')"
   ]
  },
  {
   "cell_type": "markdown",
   "id": "7bc8dc18",
   "metadata": {},
   "source": [
    "mean opening price of tesla of each quarter over a period of 1 year."
   ]
  },
  {
   "cell_type": "code",
   "execution_count": 57,
   "id": "bc66972d",
   "metadata": {},
   "outputs": [
    {
     "data": {
      "image/png": "[encoded data removed]",
      "text/plain": [
       "<Figure size 864x288 with 1 Axes>"
      ]
     },
     "metadata": {
      "needs_background": "light"
     },
     "output_type": "display_data"
    }
   ],
   "source": [
    "Quater_resampled_data = tesla.resample('Q').mean() ['Open'].plot(kind='bar',figsize=(12,4),color='#F61433')"
   ]
  },
  {
   "cell_type": "markdown",
   "id": "4d591b65",
   "metadata": {},
   "source": [
    "## Rolling"
   ]
  },
  {
   "cell_type": "code",
   "execution_count": 65,
   "id": "6bd970c2",
   "metadata": {},
   "outputs": [
    {
     "data": {
      "text/plain": [
       "Date\n",
       "2017-03-06            NaN\n",
       "2017-03-07     101.118000\n",
       "2017-03-08     100.792000\n",
       "2017-03-09      99.745998\n",
       "2017-03-10      99.031998\n",
       "                 ...     \n",
       "2022-02-28    1696.359985\n",
       "2022-03-01    1766.739990\n",
       "2022-03-02    1776.359985\n",
       "2022-03-03    1772.919983\n",
       "2022-03-04    1742.090027\n",
       "Name: High, Length: 1260, dtype: float64"
      ]
     },
     "execution_count": 65,
     "metadata": {},
     "output_type": "execute_result"
    }
   ],
   "source": [
    "tesla['High'].rolling(2).sum()"
   ]
  },
  {
   "cell_type": "code",
   "execution_count": 63,
   "id": "8d8c2443",
   "metadata": {},
   "outputs": [
    {
     "data": {
      "text/plain": [
       "Date\n",
       "2017-03-06    50.340000\n",
       "2017-03-07    50.778000\n",
       "2017-03-08    50.014000\n",
       "2017-03-09    49.731998\n",
       "2017-03-10    49.299999\n",
       "Name: High, dtype: float64"
      ]
     },
     "execution_count": 63,
     "metadata": {},
     "output_type": "execute_result"
    }
   ],
   "source": [
    "tesla['High'].head()"
   ]
  },
  {
   "cell_type": "code",
   "execution_count": 68,
   "id": "43f781ac",
   "metadata": {},
   "outputs": [],
   "source": [
    "tesla['Open:10 days rolling']=tesla['Open'].rolling(10).mean()"
   ]
  },
  {
   "cell_type": "code",
   "execution_count": 70,
   "id": "e8e0fb2a",
   "metadata": {},
   "outputs": [
    {
     "data": {
      "text/html": [
       "<div>\n",
       "<style scoped>\n",
       "    .dataframe tbody tr th:only-of-type {\n",
       "        vertical-align: middle;\n",
       "    }\n",
       "\n",
       "    .dataframe tbody tr th {\n",
       "        vertical-align: top;\n",
       "    }\n",
       "\n",
       "    .dataframe thead th {\n",
       "        text-align: right;\n",
       "    }\n",
       "</style>\n",
       "<table border=\"1\" class=\"dataframe\">\n",
       "  <thead>\n",
       "    <tr style=\"text-align: right;\">\n",
       "      <th></th>\n",
       "      <th>Date</th>\n",
       "      <th>High</th>\n",
       "      <th>Low</th>\n",
       "      <th>Open</th>\n",
       "      <th>Close</th>\n",
       "      <th>Volume</th>\n",
       "      <th>Adj Close</th>\n",
       "      <th>Open:10 days rolling</th>\n",
       "    </tr>\n",
       "    <tr>\n",
       "      <th>Date</th>\n",
       "      <th></th>\n",
       "      <th></th>\n",
       "      <th></th>\n",
       "      <th></th>\n",
       "      <th></th>\n",
       "      <th></th>\n",
       "      <th></th>\n",
       "      <th></th>\n",
       "    </tr>\n",
       "  </thead>\n",
       "  <tbody>\n",
       "    <tr>\n",
       "      <th>2017-03-06</th>\n",
       "      <td>2017-03-06</td>\n",
       "      <td>50.340000</td>\n",
       "      <td>49.501999</td>\n",
       "      <td>49.582001</td>\n",
       "      <td>50.242001</td>\n",
       "      <td>16777500.0</td>\n",
       "      <td>50.242001</td>\n",
       "      <td>NaN</td>\n",
       "    </tr>\n",
       "    <tr>\n",
       "      <th>2017-03-07</th>\n",
       "      <td>2017-03-07</td>\n",
       "      <td>50.778000</td>\n",
       "      <td>49.664001</td>\n",
       "      <td>50.383999</td>\n",
       "      <td>49.717999</td>\n",
       "      <td>17297500.0</td>\n",
       "      <td>49.717999</td>\n",
       "      <td>NaN</td>\n",
       "    </tr>\n",
       "    <tr>\n",
       "      <th>2017-03-08</th>\n",
       "      <td>2017-03-08</td>\n",
       "      <td>50.014000</td>\n",
       "      <td>49.063999</td>\n",
       "      <td>49.400002</td>\n",
       "      <td>49.374001</td>\n",
       "      <td>18626000.0</td>\n",
       "      <td>49.374001</td>\n",
       "      <td>NaN</td>\n",
       "    </tr>\n",
       "    <tr>\n",
       "      <th>2017-03-09</th>\n",
       "      <td>2017-03-09</td>\n",
       "      <td>49.731998</td>\n",
       "      <td>48.599998</td>\n",
       "      <td>49.526001</td>\n",
       "      <td>48.980000</td>\n",
       "      <td>19396500.0</td>\n",
       "      <td>48.980000</td>\n",
       "      <td>NaN</td>\n",
       "    </tr>\n",
       "    <tr>\n",
       "      <th>2017-03-10</th>\n",
       "      <td>2017-03-10</td>\n",
       "      <td>49.299999</td>\n",
       "      <td>48.599998</td>\n",
       "      <td>49.242001</td>\n",
       "      <td>48.737999</td>\n",
       "      <td>15331500.0</td>\n",
       "      <td>48.737999</td>\n",
       "      <td>NaN</td>\n",
       "    </tr>\n",
       "    <tr>\n",
       "      <th>2017-03-13</th>\n",
       "      <td>2017-03-13</td>\n",
       "      <td>49.369999</td>\n",
       "      <td>48.556000</td>\n",
       "      <td>48.964001</td>\n",
       "      <td>49.234001</td>\n",
       "      <td>15113000.0</td>\n",
       "      <td>49.234001</td>\n",
       "      <td>NaN</td>\n",
       "    </tr>\n",
       "    <tr>\n",
       "      <th>2017-03-14</th>\n",
       "      <td>2017-03-14</td>\n",
       "      <td>51.624001</td>\n",
       "      <td>49.203999</td>\n",
       "      <td>49.222000</td>\n",
       "      <td>51.599998</td>\n",
       "      <td>37992000.0</td>\n",
       "      <td>51.599998</td>\n",
       "      <td>NaN</td>\n",
       "    </tr>\n",
       "    <tr>\n",
       "      <th>2017-03-15</th>\n",
       "      <td>2017-03-15</td>\n",
       "      <td>52.200001</td>\n",
       "      <td>50.854000</td>\n",
       "      <td>51.400002</td>\n",
       "      <td>51.146000</td>\n",
       "      <td>26654000.0</td>\n",
       "      <td>51.146000</td>\n",
       "      <td>NaN</td>\n",
       "    </tr>\n",
       "    <tr>\n",
       "      <th>2017-03-16</th>\n",
       "      <td>2017-03-16</td>\n",
       "      <td>53.150002</td>\n",
       "      <td>51.812000</td>\n",
       "      <td>52.480000</td>\n",
       "      <td>52.410000</td>\n",
       "      <td>35661000.0</td>\n",
       "      <td>52.410000</td>\n",
       "      <td>NaN</td>\n",
       "    </tr>\n",
       "    <tr>\n",
       "      <th>2017-03-17</th>\n",
       "      <td>2017-03-17</td>\n",
       "      <td>53.066002</td>\n",
       "      <td>52.240002</td>\n",
       "      <td>52.799999</td>\n",
       "      <td>52.299999</td>\n",
       "      <td>32487500.0</td>\n",
       "      <td>52.299999</td>\n",
       "      <td>50.3000</td>\n",
       "    </tr>\n",
       "    <tr>\n",
       "      <th>2017-03-20</th>\n",
       "      <td>2017-03-20</td>\n",
       "      <td>52.910000</td>\n",
       "      <td>51.764000</td>\n",
       "      <td>52.119999</td>\n",
       "      <td>52.383999</td>\n",
       "      <td>18071500.0</td>\n",
       "      <td>52.383999</td>\n",
       "      <td>50.5538</td>\n",
       "    </tr>\n",
       "  </tbody>\n",
       "</table>\n",
       "</div>"
      ],
      "text/plain": [
       "                 Date       High        Low       Open      Close      Volume  \\\n",
       "Date                                                                            \n",
       "2017-03-06 2017-03-06  50.340000  49.501999  49.582001  50.242001  16777500.0   \n",
       "2017-03-07 2017-03-07  50.778000  49.664001  50.383999  49.717999  17297500.0   \n",
       "2017-03-08 2017-03-08  50.014000  49.063999  49.400002  49.374001  18626000.0   \n",
       "2017-03-09 2017-03-09  49.731998  48.599998  49.526001  48.980000  19396500.0   \n",
       "2017-03-10 2017-03-10  49.299999  48.599998  49.242001  48.737999  15331500.0   \n",
       "2017-03-13 2017-03-13  49.369999  48.556000  48.964001  49.234001  15113000.0   \n",
       "2017-03-14 2017-03-14  51.624001  49.203999  49.222000  51.599998  37992000.0   \n",
       "2017-03-15 2017-03-15  52.200001  50.854000  51.400002  51.146000  26654000.0   \n",
       "2017-03-16 2017-03-16  53.150002  51.812000  52.480000  52.410000  35661000.0   \n",
       "2017-03-17 2017-03-17  53.066002  52.240002  52.799999  52.299999  32487500.0   \n",
       "2017-03-20 2017-03-20  52.910000  51.764000  52.119999  52.383999  18071500.0   \n",
       "\n",
       "            Adj Close  Open:10 days rolling  \n",
       "Date                                         \n",
       "2017-03-06  50.242001                   NaN  \n",
       "2017-03-07  49.717999                   NaN  \n",
       "2017-03-08  49.374001                   NaN  \n",
       "2017-03-09  48.980000                   NaN  \n",
       "2017-03-10  48.737999                   NaN  \n",
       "2017-03-13  49.234001                   NaN  \n",
       "2017-03-14  51.599998                   NaN  \n",
       "2017-03-15  51.146000                   NaN  \n",
       "2017-03-16  52.410000                   NaN  \n",
       "2017-03-17  52.299999               50.3000  \n",
       "2017-03-20  52.383999               50.5538  "
      ]
     },
     "execution_count": 70,
     "metadata": {},
     "output_type": "execute_result"
    }
   ],
   "source": [
    "tesla.head(11)"
   ]
  },
  {
   "cell_type": "code",
   "execution_count": 74,
   "id": "0db975c5",
   "metadata": {},
   "outputs": [
    {
     "data": {
      "text/plain": [
       "<AxesSubplot:xlabel='Date'>"
      ]
     },
     "execution_count": 74,
     "metadata": {},
     "output_type": "execute_result"
    },
    {
     "data": {
      "image/png": "[encoded data removed]",
      "text/plain": [
       "<Figure size 1296x576 with 1 Axes>"
      ]
     },
     "metadata": {
      "needs_background": "light"
     },
     "output_type": "display_data"
    }
   ],
   "source": [
    "tesla[['Open','Open:10 days rolling']].plot(figsize=(18,8))"
   ]
  }
 ],
 "metadata": {
  "kernelspec": {
   "display_name": "Python 3 (ipykernel)",
   "language": "python",
   "name": "python3"
  },
  "language_info": {
   "codemirror_mode": {
    "name": "ipython",
    "version": 3
   },
   "file_extension": ".py",
   "mimetype": "text/x-python",
   "name": "python",
   "nbconvert_exporter": "python",
   "pygments_lexer": "ipython3",
   "version": "3.9.7"
  }
 },
 "nbformat": 4,
 "nbformat_minor": 5
}
